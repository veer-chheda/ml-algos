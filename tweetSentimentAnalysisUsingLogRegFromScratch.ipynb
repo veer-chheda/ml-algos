{
  "nbformat": 4,
  "nbformat_minor": 0,
  "metadata": {
    "colab": {
      "provenance": []
    },
    "kernelspec": {
      "name": "python3",
      "display_name": "Python 3"
    },
    "language_info": {
      "name": "python"
    }
  },
  "cells": [
    {
      "cell_type": "code",
      "execution_count": 1,
      "metadata": {
        "id": "z-I3fN2finub"
      },
      "outputs": [],
      "source": [
        "import nltk\n",
        "from nltk.corpus import twitter_samples\n",
        "import matplotlib.pyplot as plt\n",
        "import random"
      ]
    },
    {
      "cell_type": "code",
      "source": [
        "nltk.download('twitter_samples')"
      ],
      "metadata": {
        "colab": {
          "base_uri": "https://localhost:8080/"
        },
        "id": "9n1sBCTRiu8g",
        "outputId": "36c3e6ab-3f53-4fc7-fd98-1d91a3e8c8ed"
      },
      "execution_count": 2,
      "outputs": [
        {
          "output_type": "stream",
          "name": "stderr",
          "text": [
            "[nltk_data] Downloading package twitter_samples to /root/nltk_data...\n",
            "[nltk_data]   Unzipping corpora/twitter_samples.zip.\n"
          ]
        },
        {
          "output_type": "execute_result",
          "data": {
            "text/plain": [
              "True"
            ]
          },
          "metadata": {},
          "execution_count": 2
        }
      ]
    },
    {
      "cell_type": "code",
      "source": [
        "all_positive_tweets = twitter_samples.strings('positive_tweets.json')\n",
        "all_negative_tweets = twitter_samples.strings('negative_tweets.json')"
      ],
      "metadata": {
        "id": "Y5daAaqXizAp"
      },
      "execution_count": 3,
      "outputs": []
    },
    {
      "cell_type": "code",
      "source": [
        "len(all_positive_tweets), len(all_negative_tweets)"
      ],
      "metadata": {
        "colab": {
          "base_uri": "https://localhost:8080/"
        },
        "id": "svLsbqhni2AQ",
        "outputId": "e22157f6-477e-4670-8c4a-4dc562e0a651"
      },
      "execution_count": 4,
      "outputs": [
        {
          "output_type": "execute_result",
          "data": {
            "text/plain": [
              "(5000, 5000)"
            ]
          },
          "metadata": {},
          "execution_count": 4
        }
      ]
    },
    {
      "cell_type": "code",
      "source": [
        "type(all_positive_tweets), type(all_negative_tweets[0])"
      ],
      "metadata": {
        "colab": {
          "base_uri": "https://localhost:8080/"
        },
        "id": "Mf2cW5Wsi9wK",
        "outputId": "8049b62f-dcd7-4226-d7eb-1135559a97b3"
      },
      "execution_count": 5,
      "outputs": [
        {
          "output_type": "execute_result",
          "data": {
            "text/plain": [
              "(list, str)"
            ]
          },
          "metadata": {},
          "execution_count": 5
        }
      ]
    },
    {
      "cell_type": "code",
      "source": [
        "fig = plt.figure(figsize=(5, 5))\n",
        "\n",
        "# labels for the two classes\n",
        "labels = 'Positives', 'Negative'\n",
        "\n",
        "# Sizes for each slide\n",
        "sizes = [len(all_positive_tweets), len(all_negative_tweets)]\n",
        "\n",
        "# Declare pie chart, where the slices will be ordered and plotted counter-clockwise:\n",
        "plt.pie(sizes, labels=labels, autopct='%1.1f%%',\n",
        "        shadow=True, startangle=90)\n",
        "\n",
        "# Equal aspect ratio ensures that pie is drawn as a circle.\n",
        "plt.axis('equal')\n",
        "\n",
        "# Display the chart\n",
        "plt.show()"
      ],
      "metadata": {
        "colab": {
          "base_uri": "https://localhost:8080/",
          "height": 422
        },
        "id": "EUDrRo0yjCa1",
        "outputId": "48a4970a-0704-4c30-be35-bfa7a964e3f8"
      },
      "execution_count": 6,
      "outputs": [
        {
          "output_type": "display_data",
          "data": {
            "text/plain": [
              "<Figure size 500x500 with 1 Axes>"
            ],
            "image/png": "[encoded data removed]"
          },
          "metadata": {}
        }
      ]
    },
    {
      "cell_type": "code",
      "source": [
        "print('\\033[92m' + all_positive_tweets[random.randint(0,5000)])\n",
        "print('\\033[91m' + all_negative_tweets[random.randint(0,5000)])"
      ],
      "metadata": {
        "colab": {
          "base_uri": "https://localhost:8080/"
        },
        "id": "Ich3CRyujF43",
        "outputId": "293077e7-547d-45ed-a1df-39e77e4fb033"
      },
      "execution_count": 7,
      "outputs": [
        {
          "output_type": "stream",
          "name": "stdout",
          "text": [
            "\u001b[92m@RSkrillex @kiranmanral @TurkeyIndia @TurkishAirlines @TK_INDIA @sid_travel thanks :)\n",
            "\u001b[91mJust another rumor :(\n",
            "\n",
            "#ZaynIsComingBackOnJuly26\n"
          ]
        }
      ]
    },
    {
      "cell_type": "code",
      "source": [
        "tweet = all_positive_tweets[2277]\n",
        "print(tweet)"
      ],
      "metadata": {
        "colab": {
          "base_uri": "https://localhost:8080/"
        },
        "id": "Z0HoBfF8jLes",
        "outputId": "31fac41f-9b21-45b9-ca14-f501550c3e70"
      },
      "execution_count": 8,
      "outputs": [
        {
          "output_type": "stream",
          "name": "stdout",
          "text": [
            "My beautiful sunflowers on a sunny Friday morning off :) #sunflowers #favourites #happy #Friday off… https://t.co/3tfYom0N1i\n"
          ]
        }
      ]
    },
    {
      "cell_type": "code",
      "source": [
        "nltk.download('stopwords')"
      ],
      "metadata": {
        "colab": {
          "base_uri": "https://localhost:8080/"
        },
        "id": "OwgIPcjljQOW",
        "outputId": "cbab578b-64f5-4955-9b06-843d0a8ac366"
      },
      "execution_count": 9,
      "outputs": [
        {
          "output_type": "stream",
          "name": "stderr",
          "text": [
            "[nltk_data] Downloading package stopwords to /root/nltk_data...\n",
            "[nltk_data]   Unzipping corpora/stopwords.zip.\n"
          ]
        },
        {
          "output_type": "execute_result",
          "data": {
            "text/plain": [
              "True"
            ]
          },
          "metadata": {},
          "execution_count": 9
        }
      ]
    },
    {
      "cell_type": "code",
      "source": [
        "import re                                  # library for regular expression operations\n",
        "import string                              # for string operations\n",
        "\n",
        "from nltk.corpus import stopwords          # module for stop words that come with NLTK\n",
        "from nltk.stem import PorterStemmer        # module for stemming\n",
        "from nltk.tokenize import TweetTokenizer"
      ],
      "metadata": {
        "id": "31UMK4mdjT56"
      },
      "execution_count": 10,
      "outputs": []
    },
    {
      "cell_type": "code",
      "source": [
        "print('\\033[92m' + tweet)\n",
        "print('\\033[94m')\n",
        "\n",
        "# remove old style retweet text \"RT\"\n",
        "tweet2 = re.sub(r'^RT[\\s]+', '', tweet)\n",
        "\n",
        "# remove hyperlinks\n",
        "tweet2 = re.sub(r'https?://[^\\s\\n\\r]+', '', tweet2)\n",
        "\n",
        "# remove hashtags\n",
        "# only removing the hash # sign from the word\n",
        "tweet2 = re.sub(r'#', '', tweet2)\n",
        "\n",
        "print(tweet2)"
      ],
      "metadata": {
        "colab": {
          "base_uri": "https://localhost:8080/"
        },
        "id": "jhBtHc5QjeQ4",
        "outputId": "396a5333-1681-4f6a-85b4-b13cf3865234"
      },
      "execution_count": 11,
      "outputs": [
        {
          "output_type": "stream",
          "name": "stdout",
          "text": [
            "\u001b[92mMy beautiful sunflowers on a sunny Friday morning off :) #sunflowers #favourites #happy #Friday off… https://t.co/3tfYom0N1i\n",
            "\u001b[94m\n",
            "My beautiful sunflowers on a sunny Friday morning off :) sunflowers favourites happy Friday off… \n"
          ]
        }
      ]
    },
    {
      "cell_type": "code",
      "source": [
        "print()\n",
        "print('\\033[92m' + tweet2)\n",
        "print('\\033[94m')\n",
        "\n",
        "# instantiate tokenizer class\n",
        "tokenizer = TweetTokenizer(preserve_case=False, strip_handles=True,\n",
        "                               reduce_len=True)\n",
        "\n",
        "# tokenize tweets\n",
        "tweet_tokens = tokenizer.tokenize(tweet2)\n",
        "\n",
        "print()\n",
        "print('Tokenized string:')\n",
        "print(tweet_tokens)"
      ],
      "metadata": {
        "colab": {
          "base_uri": "https://localhost:8080/"
        },
        "id": "cQ25nAGwjoPE",
        "outputId": "4d87c1bd-1211-4ca4-9da4-399c6affa16a"
      },
      "execution_count": 12,
      "outputs": [
        {
          "output_type": "stream",
          "name": "stdout",
          "text": [
            "\n",
            "\u001b[92mMy beautiful sunflowers on a sunny Friday morning off :) sunflowers favourites happy Friday off… \n",
            "\u001b[94m\n",
            "\n",
            "Tokenized string:\n",
            "['my', 'beautiful', 'sunflowers', 'on', 'a', 'sunny', 'friday', 'morning', 'off', ':)', 'sunflowers', 'favourites', 'happy', 'friday', 'off', '…']\n"
          ]
        }
      ]
    },
    {
      "cell_type": "code",
      "source": [
        "stopwords_english = stopwords.words('english')\n",
        "\n",
        "print('Stop words\\n')\n",
        "print(stopwords_english)\n",
        "\n",
        "print('\\nPunctuation\\n')\n",
        "print(string.punctuation)"
      ],
      "metadata": {
        "colab": {
          "base_uri": "https://localhost:8080/"
        },
        "id": "PtSo-oABjs79",
        "outputId": "831968d6-0e49-461f-e804-fbab541eb432"
      },
      "execution_count": 13,
      "outputs": [
        {
          "output_type": "stream",
          "name": "stdout",
          "text": [
            "Stop words\n",
            "\n",
            "['i', 'me', 'my', 'myself', 'we', 'our', 'ours', 'ourselves', 'you', \"you're\", \"you've\", \"you'll\", \"you'd\", 'your', 'yours', 'yourself', 'yourselves', 'he', 'him', 'his', 'himself', 'she', \"she's\", 'her', 'hers', 'herself', 'it', \"it's\", 'its', 'itself', 'they', 'them', 'their', 'theirs', 'themselves', 'what', 'which', 'who', 'whom', 'this', 'that', \"that'll\", 'these', 'those', 'am', 'is', 'are', 'was', 'were', 'be', 'been', 'being', 'have', 'has', 'had', 'having', 'do', 'does', 'did', 'doing', 'a', 'an', 'the', 'and', 'but', 'if', 'or', 'because', 'as', 'until', 'while', 'of', 'at', 'by', 'for', 'with', 'about', 'against', 'between', 'into', 'through', 'during', 'before', 'after', 'above', 'below', 'to', 'from', 'up', 'down', 'in', 'out', 'on', 'off', 'over', 'under', 'again', 'further', 'then', 'once', 'here', 'there', 'when', 'where', 'why', 'how', 'all', 'any', 'both', 'each', 'few', 'more', 'most', 'other', 'some', 'such', 'no', 'nor', 'not', 'only', 'own', 'same', 'so', 'than', 'too', 'very', 's', 't', 'can', 'will', 'just', 'don', \"don't\", 'should', \"should've\", 'now', 'd', 'll', 'm', 'o', 're', 've', 'y', 'ain', 'aren', \"aren't\", 'couldn', \"couldn't\", 'didn', \"didn't\", 'doesn', \"doesn't\", 'hadn', \"hadn't\", 'hasn', \"hasn't\", 'haven', \"haven't\", 'isn', \"isn't\", 'ma', 'mightn', \"mightn't\", 'mustn', \"mustn't\", 'needn', \"needn't\", 'shan', \"shan't\", 'shouldn', \"shouldn't\", 'wasn', \"wasn't\", 'weren', \"weren't\", 'won', \"won't\", 'wouldn', \"wouldn't\"]\n",
            "\n",
            "Punctuation\n",
            "\n",
            "!\"#$%&'()*+,-./:;<=>?@[\\]^_`{|}~\n"
          ]
        }
      ]
    },
    {
      "cell_type": "code",
      "source": [
        "print()\n",
        "print('\\033[92m')\n",
        "print(tweet_tokens)\n",
        "print('\\033[94m')\n",
        "\n",
        "tweets_clean = []\n",
        "\n",
        "for word in tweet_tokens: # Go through every word in your tokens list\n",
        "    if (word not in stopwords_english and  # remove stopwords\n",
        "        word not in string.punctuation):  # remove punctuation\n",
        "        tweets_clean.append(word)\n",
        "\n",
        "print('removed stop words and punctuation:')\n",
        "print(tweets_clean)"
      ],
      "metadata": {
        "colab": {
          "base_uri": "https://localhost:8080/"
        },
        "id": "AizHKRrRjvyx",
        "outputId": "6eed8369-208c-4a54-ba10-b2545181b183"
      },
      "execution_count": 14,
      "outputs": [
        {
          "output_type": "stream",
          "name": "stdout",
          "text": [
            "\n",
            "\u001b[92m\n",
            "['my', 'beautiful', 'sunflowers', 'on', 'a', 'sunny', 'friday', 'morning', 'off', ':)', 'sunflowers', 'favourites', 'happy', 'friday', 'off', '…']\n",
            "\u001b[94m\n",
            "removed stop words and punctuation:\n",
            "['beautiful', 'sunflowers', 'sunny', 'friday', 'morning', ':)', 'sunflowers', 'favourites', 'happy', 'friday', '…']\n"
          ]
        }
      ]
    },
    {
      "cell_type": "code",
      "source": [
        "print()\n",
        "print('\\033[92m')\n",
        "print(tweets_clean)\n",
        "print('\\033[94m')\n",
        "\n",
        "# Instantiate stemming class\n",
        "stemmer = PorterStemmer()\n",
        "\n",
        "# Create an empty list to store the stems\n",
        "tweets_stem = []\n",
        "\n",
        "for word in tweets_clean:\n",
        "    stem_word = stemmer.stem(word)  # stemming word\n",
        "    tweets_stem.append(stem_word)  # append to the list\n",
        "\n",
        "print('stemmed words:')\n",
        "print(tweets_stem)"
      ],
      "metadata": {
        "colab": {
          "base_uri": "https://localhost:8080/"
        },
        "id": "sqLloedxj3D-",
        "outputId": "8447861c-e22b-43d8-f2ee-5b630a8b49ab"
      },
      "execution_count": 15,
      "outputs": [
        {
          "output_type": "stream",
          "name": "stdout",
          "text": [
            "\n",
            "\u001b[92m\n",
            "['beautiful', 'sunflowers', 'sunny', 'friday', 'morning', ':)', 'sunflowers', 'favourites', 'happy', 'friday', '…']\n",
            "\u001b[94m\n",
            "stemmed words:\n",
            "['beauti', 'sunflow', 'sunni', 'friday', 'morn', ':)', 'sunflow', 'favourit', 'happi', 'friday', '…']\n"
          ]
        }
      ]
    },
    {
      "cell_type": "code",
      "source": [
        "def process_tweet(tweet):\n",
        "    \"\"\"Process tweet function.\n",
        "    Input:\n",
        "        tweet: a string containing a tweet\n",
        "    Output:\n",
        "        tweets_clean: a list of words containing the processed tweet\n",
        "\n",
        "    \"\"\"\n",
        "    stemmer = PorterStemmer()\n",
        "    stopwords_english = stopwords.words('english')\n",
        "    # remove stock market tickers like $GE\n",
        "    tweet = re.sub(r'\\$\\w*', '', tweet)\n",
        "    # remove old style retweet text \"RT\"\n",
        "    tweet = re.sub(r'^RT[\\s]+', '', tweet)\n",
        "    # remove hyperlinks\n",
        "    tweet = re.sub(r'https?://[^\\s\\n\\r]+', '', tweet)\n",
        "    # remove hashtags\n",
        "    # only removing the hash # sign from the word\n",
        "    tweet = re.sub(r'#', '', tweet)\n",
        "    # tokenize tweets\n",
        "    tokenizer = TweetTokenizer(preserve_case=False, strip_handles=True,\n",
        "                               reduce_len=True)\n",
        "    tweet_tokens = tokenizer.tokenize(tweet)\n",
        "\n",
        "    tweets_clean = []\n",
        "    for word in tweet_tokens:\n",
        "        if (word not in stopwords_english and  # remove stopwords\n",
        "                word not in string.punctuation):  # remove punctuation\n",
        "            # tweets_clean.append(word)\n",
        "            stem_word = stemmer.stem(word)  # stemming word\n",
        "            tweets_clean.append(stem_word)\n",
        "\n",
        "    return tweets_clean\n",
        "\n",
        "def build_freqs(tweets, ys):\n",
        "    \"\"\"Build frequencies.\n",
        "    Input:\n",
        "        tweets: a list of tweets\n",
        "        ys: an m x 1 array with the sentiment label of each tweet\n",
        "            (either 0 or 1)\n",
        "    Output:\n",
        "        freqs: a dictionary mapping each (word, sentiment) pair to its\n",
        "        frequency\n",
        "    \"\"\"\n",
        "    # Convert np array to list since zip needs an iterable.\n",
        "    # The squeeze is necessary or the list ends up with one element.\n",
        "    # Also note that this is just a NOP if ys is already a list.\n",
        "    yslist = np.squeeze(ys).tolist()\n",
        "\n",
        "    # Start with an empty dictionary and populate it by looping over all tweets\n",
        "    # and over all processed words in each tweet.\n",
        "    freqs = {}\n",
        "    for y, tweet in zip(yslist, tweets):\n",
        "        for word in process_tweet(tweet):\n",
        "            pair = (word, y)\n",
        "            if pair in freqs:\n",
        "                freqs[pair] += 1\n",
        "            else:\n",
        "                freqs[pair] = 1\n",
        "\n",
        "    return freqs"
      ],
      "metadata": {
        "id": "GH-N997qkRpd"
      },
      "execution_count": 20,
      "outputs": []
    },
    {
      "cell_type": "code",
      "source": [
        "# choose the same tweet\n",
        "tweet = all_positive_tweets[2277]\n",
        "\n",
        "print()\n",
        "print('\\033[92m')\n",
        "print(tweet)\n",
        "print('\\033[94m')\n",
        "\n",
        "# call the imported function\n",
        "tweets_stem = process_tweet(tweet); # Preprocess a given tweet\n",
        "\n",
        "print('preprocessed tweet:')\n",
        "print(tweets_stem) # Print the result"
      ],
      "metadata": {
        "colab": {
          "base_uri": "https://localhost:8080/"
        },
        "id": "-_Yk8kQFj8k3",
        "outputId": "4a6bb53d-7cea-4c87-9c98-9c0d4e54fd05"
      },
      "execution_count": 21,
      "outputs": [
        {
          "output_type": "stream",
          "name": "stdout",
          "text": [
            "\n",
            "\u001b[92m\n",
            "My beautiful sunflowers on a sunny Friday morning off :) #sunflowers #favourites #happy #Friday off… https://t.co/3tfYom0N1i\n",
            "\u001b[94m\n",
            "preprocessed tweet:\n",
            "['beauti', 'sunflow', 'sunni', 'friday', 'morn', ':)', 'sunflow', 'favourit', 'happi', 'friday', '…']\n"
          ]
        }
      ]
    },
    {
      "cell_type": "code",
      "source": [
        "import numpy as np"
      ],
      "metadata": {
        "id": "PBveLe23kWkO"
      },
      "execution_count": 23,
      "outputs": []
    },
    {
      "cell_type": "code",
      "source": [
        "tweets = all_positive_tweets + all_negative_tweets"
      ],
      "metadata": {
        "id": "D56lArBymDOk"
      },
      "execution_count": 24,
      "outputs": []
    },
    {
      "cell_type": "code",
      "source": [
        "len(tweets)"
      ],
      "metadata": {
        "colab": {
          "base_uri": "https://localhost:8080/"
        },
        "id": "yMZ7rXrRmLVF",
        "outputId": "3159701b-fa15-4395-9607-b6ddb0922af9"
      },
      "execution_count": 25,
      "outputs": [
        {
          "output_type": "execute_result",
          "data": {
            "text/plain": [
              "10000"
            ]
          },
          "metadata": {},
          "execution_count": 25
        }
      ]
    },
    {
      "cell_type": "code",
      "source": [
        "labels = np.append(np.ones((len(all_positive_tweets))), np.zeros((len(all_negative_tweets))))"
      ],
      "metadata": {
        "id": "zfswQTvtmSk9"
      },
      "execution_count": 26,
      "outputs": []
    },
    {
      "cell_type": "code",
      "source": [
        "freqs = build_freqs(tweets, labels)\n",
        "\n",
        "# check data type\n",
        "print(f'type(freqs) = {type(freqs)}')\n",
        "\n",
        "# check length of the dictionary\n",
        "print(f'len(freqs) = {len(freqs)}')"
      ],
      "metadata": {
        "colab": {
          "base_uri": "https://localhost:8080/"
        },
        "id": "xpII-UCImTmg",
        "outputId": "71a2a0ec-078e-4638-ae69-1b7feeaf6111"
      },
      "execution_count": 27,
      "outputs": [
        {
          "output_type": "stream",
          "name": "stdout",
          "text": [
            "type(freqs) = <class 'dict'>\n",
            "len(freqs) = 13171\n"
          ]
        }
      ]
    },
    {
      "cell_type": "code",
      "source": [
        "freqs"
      ],
      "metadata": {
        "colab": {
          "base_uri": "https://localhost:8080/"
        },
        "id": "2Gxjk7XvmtFV",
        "outputId": "d5f393d5-d00e-45f9-cb57-d84b3c92a87e"
      },
      "execution_count": 28,
      "outputs": [
        {
          "output_type": "execute_result",
          "data": {
            "text/plain": [
              "{('followfriday', 1.0): 25,\n",
              " ('top', 1.0): 32,\n",
              " ('engag', 1.0): 7,\n",
              " ('member', 1.0): 16,\n",
              " ('commun', 1.0): 33,\n",
              " ('week', 1.0): 83,\n",
              " (':)', 1.0): 3691,\n",
              " ('hey', 1.0): 77,\n",
              " ('jame', 1.0): 7,\n",
              " ('odd', 1.0): 2,\n",
              " (':/', 1.0): 5,\n",
              " ('pleas', 1.0): 99,\n",
              " ('call', 1.0): 37,\n",
              " ('contact', 1.0): 7,\n",
              " ('centr', 1.0): 2,\n",
              " ('02392441234', 1.0): 1,\n",
              " ('abl', 1.0): 8,\n",
              " ('assist', 1.0): 1,\n",
              " ('mani', 1.0): 33,\n",
              " ('thank', 1.0): 643,\n",
              " ('listen', 1.0): 17,\n",
              " ('last', 1.0): 47,\n",
              " ('night', 1.0): 68,\n",
              " ('bleed', 1.0): 2,\n",
              " ('amaz', 1.0): 51,\n",
              " ('track', 1.0): 5,\n",
              " ('scotland', 1.0): 2,\n",
              " ('congrat', 1.0): 21,\n",
              " ('yeaaah', 1.0): 1,\n",
              " ('yipppi', 1.0): 1,\n",
              " ('accnt', 1.0): 2,\n",
              " ('verifi', 1.0): 2,\n",
              " ('rqst', 1.0): 1,\n",
              " ('succeed', 1.0): 1,\n",
              " ('got', 1.0): 69,\n",
              " ('blue', 1.0): 9,\n",
              " ('tick', 1.0): 1,\n",
              " ('mark', 1.0): 1,\n",
              " ('fb', 1.0): 6,\n",
              " ('profil', 1.0): 2,\n",
              " ('15', 1.0): 5,\n",
              " ('day', 1.0): 246,\n",
              " ('one', 1.0): 131,\n",
              " ('irresist', 1.0): 2,\n",
              " ('flipkartfashionfriday', 1.0): 17,\n",
              " ('like', 1.0): 233,\n",
              " ('keep', 1.0): 68,\n",
              " ('love', 1.0): 401,\n",
              " ('custom', 1.0): 4,\n",
              " ('wait', 1.0): 70,\n",
              " ('long', 1.0): 36,\n",
              " ('hope', 1.0): 143,\n",
              " ('enjoy', 1.0): 79,\n",
              " ('happi', 1.0): 212,\n",
              " ('friday', 1.0): 116,\n",
              " ('lwwf', 1.0): 1,\n",
              " ('second', 1.0): 10,\n",
              " ('thought', 1.0): 29,\n",
              " ('’', 1.0): 21,\n",
              " ('enough', 1.0): 18,\n",
              " ('time', 1.0): 128,\n",
              " ('dd', 1.0): 1,\n",
              " ('new', 1.0): 146,\n",
              " ('short', 1.0): 7,\n",
              " ('enter', 1.0): 9,\n",
              " ('system', 1.0): 2,\n",
              " ('sheep', 1.0): 1,\n",
              " ('must', 1.0): 19,\n",
              " ('buy', 1.0): 12,\n",
              " ('jgh', 1.0): 4,\n",
              " ('go', 1.0): 151,\n",
              " ('bayan', 1.0): 1,\n",
              " (':d', 1.0): 658,\n",
              " ('bye', 1.0): 8,\n",
              " ('act', 1.0): 8,\n",
              " ('mischiev', 1.0): 1,\n",
              " ('etl', 1.0): 1,\n",
              " ('layer', 1.0): 1,\n",
              " ('in-hous', 1.0): 1,\n",
              " ('wareh', 1.0): 1,\n",
              " ('app', 1.0): 16,\n",
              " ('katamari', 1.0): 1,\n",
              " ('well', 1.0): 81,\n",
              " ('…', 1.0): 38,\n",
              " ('name', 1.0): 18,\n",
              " ('impli', 1.0): 1,\n",
              " (':p', 1.0): 139,\n",
              " ('influenc', 1.0): 18,\n",
              " ('big', 1.0): 34,\n",
              " ('...', 1.0): 290,\n",
              " ('juici', 1.0): 3,\n",
              " ('selfi', 1.0): 12,\n",
              " ('follow', 1.0): 447,\n",
              " ('u', 1.0): 245,\n",
              " ('back', 1.0): 163,\n",
              " ('perfect', 1.0): 24,\n",
              " ('alreadi', 1.0): 28,\n",
              " ('know', 1.0): 155,\n",
              " (\"what'\", 1.0): 17,\n",
              " ('great', 1.0): 172,\n",
              " ('opportun', 1.0): 23,\n",
              " ('junior', 1.0): 2,\n",
              " ('triathlet', 1.0): 1,\n",
              " ('age', 1.0): 2,\n",
              " ('12', 1.0): 5,\n",
              " ('13', 1.0): 6,\n",
              " ('gatorad', 1.0): 1,\n",
              " ('seri', 1.0): 5,\n",
              " ('get', 1.0): 209,\n",
              " ('entri', 1.0): 4,\n",
              " ('lay', 1.0): 4,\n",
              " ('greet', 1.0): 5,\n",
              " ('card', 1.0): 8,\n",
              " ('rang', 1.0): 3,\n",
              " ('print', 1.0): 4,\n",
              " ('today', 1.0): 113,\n",
              " ('job', 1.0): 41,\n",
              " (':-)', 1.0): 701,\n",
              " (\"friend'\", 1.0): 3,\n",
              " ('lunch', 1.0): 5,\n",
              " ('yummm', 1.0): 1,\n",
              " ('nostalgia', 1.0): 1,\n",
              " ('tb', 1.0): 2,\n",
              " ('ku', 1.0): 1,\n",
              " ('id', 1.0): 8,\n",
              " ('conflict', 1.0): 1,\n",
              " ('help', 1.0): 44,\n",
              " (\"here'\", 1.0): 25,\n",
              " ('screenshot', 1.0): 3,\n",
              " ('work', 1.0): 111,\n",
              " ('hi', 1.0): 173,\n",
              " ('liv', 1.0): 2,\n",
              " ('hello', 1.0): 59,\n",
              " ('need', 1.0): 78,\n",
              " ('someth', 1.0): 28,\n",
              " ('fm', 1.0): 2,\n",
              " ('twitter', 1.0): 29,\n",
              " ('—', 1.0): 27,\n",
              " ('sure', 1.0): 59,\n",
              " ('thing', 1.0): 69,\n",
              " ('dm', 1.0): 39,\n",
              " ('x', 1.0): 72,\n",
              " (\"i'v\", 1.0): 35,\n",
              " ('heard', 1.0): 9,\n",
              " ('four', 1.0): 5,\n",
              " ('season', 1.0): 9,\n",
              " ('pretti', 1.0): 20,\n",
              " ('dope', 1.0): 2,\n",
              " ('penthous', 1.0): 1,\n",
              " ('obv', 1.0): 1,\n",
              " ('gobigorgohom', 1.0): 1,\n",
              " ('fun', 1.0): 58,\n",
              " (\"y'all\", 1.0): 4,\n",
              " ('yeah', 1.0): 47,\n",
              " ('suppos', 1.0): 7,\n",
              " ('lol', 1.0): 64,\n",
              " ('chat', 1.0): 13,\n",
              " ('bit', 1.0): 20,\n",
              " ('youth', 1.0): 19,\n",
              " ('💅🏽', 1.0): 1,\n",
              " ('💋', 1.0): 2,\n",
              " ('seen', 1.0): 10,\n",
              " ('year', 1.0): 43,\n",
              " ('rest', 1.0): 12,\n",
              " ('goe', 1.0): 7,\n",
              " ('quickli', 1.0): 3,\n",
              " ('bed', 1.0): 16,\n",
              " ('music', 1.0): 21,\n",
              " ('fix', 1.0): 10,\n",
              " ('dream', 1.0): 20,\n",
              " ('spiritu', 1.0): 1,\n",
              " ('ritual', 1.0): 1,\n",
              " ('festiv', 1.0): 8,\n",
              " ('népal', 1.0): 1,\n",
              " ('begin', 1.0): 4,\n",
              " ('line-up', 1.0): 4,\n",
              " ('left', 1.0): 13,\n",
              " ('see', 1.0): 186,\n",
              " ('sarah', 1.0): 4,\n",
              " ('send', 1.0): 23,\n",
              " ('us', 1.0): 115,\n",
              " ('email', 1.0): 26,\n",
              " ('bitsy@bitdefender.com', 1.0): 1,\n",
              " (\"we'll\", 1.0): 20,\n",
              " ('asap', 1.0): 5,\n",
              " ('kik', 1.0): 22,\n",
              " ('hatessuc', 1.0): 1,\n",
              " ('32429', 1.0): 1,\n",
              " ('kikm', 1.0): 1,\n",
              " ('lgbt', 1.0): 2,\n",
              " ('tinder', 1.0): 1,\n",
              " ('nsfw', 1.0): 1,\n",
              " ('akua', 1.0): 1,\n",
              " ('cumshot', 1.0): 1,\n",
              " ('come', 1.0): 71,\n",
              " ('hous', 1.0): 7,\n",
              " ('nsn_supplement', 1.0): 1,\n",
              " ('effect', 1.0): 4,\n",
              " ('press', 1.0): 1,\n",
              " ('releas', 1.0): 11,\n",
              " ('distribut', 1.0): 1,\n",
              " ('result', 1.0): 2,\n",
              " ('link', 1.0): 19,\n",
              " ('remov', 1.0): 3,\n",
              " ('pressreleas', 1.0): 1,\n",
              " ('newsdistribut', 1.0): 1,\n",
              " ('bam', 1.0): 44,\n",
              " ('bestfriend', 1.0): 50,\n",
              " ('lot', 1.0): 87,\n",
              " ('warsaw', 1.0): 44,\n",
              " ('<3', 1.0): 135,\n",
              " ('x46', 1.0): 1,\n",
              " ('everyon', 1.0): 58,\n",
              " ('watch', 1.0): 47,\n",
              " ('documentari', 1.0): 1,\n",
              " ('earthl', 1.0): 2,\n",
              " ('youtub', 1.0): 13,\n",
              " ('support', 1.0): 27,\n",
              " ('buuut', 1.0): 1,\n",
              " ('oh', 1.0): 53,\n",
              " ('look', 1.0): 139,\n",
              " ('forward', 1.0): 29,\n",
              " ('visit', 1.0): 30,\n",
              " ('next', 1.0): 48,\n",
              " ('letsgetmessi', 1.0): 1,\n",
              " ('jo', 1.0): 1,\n",
              " ('make', 1.0): 100,\n",
              " ('feel', 1.0): 46,\n",
              " ('better', 1.0): 52,\n",
              " ('never', 1.0): 37,\n",
              " ('anyon', 1.0): 11,\n",
              " ('kpop', 1.0): 1,\n",
              " ('flesh', 1.0): 1,\n",
              " ('good', 1.0): 238,\n",
              " ('girl', 1.0): 44,\n",
              " ('best', 1.0): 65,\n",
              " ('wish', 1.0): 37,\n",
              " ('reason', 1.0): 13,\n",
              " ('epic', 1.0): 2,\n",
              " ('soundtrack', 1.0): 1,\n",
              " ('shout', 1.0): 12,\n",
              " ('ad', 1.0): 14,\n",
              " ('video', 1.0): 35,\n",
              " ('playlist', 1.0): 5,\n",
              " ('im', 1.0): 54,\n",
              " ('twitch', 1.0): 8,\n",
              " ('leagu', 1.0): 6,\n",
              " ('1', 1.0): 79,\n",
              " ('4', 1.0): 26,\n",
              " ('would', 1.0): 84,\n",
              " ('dear', 1.0): 17,\n",
              " ('jordan', 1.0): 1,\n",
              " ('okay', 1.0): 39,\n",
              " ('fake', 1.0): 2,\n",
              " ('gameplay', 1.0): 2,\n",
              " (';)', 1.0): 27,\n",
              " ('haha', 1.0): 53,\n",
              " ('kid', 1.0): 18,\n",
              " ('stuff', 1.0): 13,\n",
              " ('exactli', 1.0): 6,\n",
              " ('product', 1.0): 12,\n",
              " ('line', 1.0): 6,\n",
              " ('etsi', 1.0): 1,\n",
              " ('shop', 1.0): 16,\n",
              " ('check', 1.0): 53,\n",
              " ('boxroomcraft', 1.0): 1,\n",
              " ('vacat', 1.0): 6,\n",
              " ('recharg', 1.0): 1,\n",
              " ('normal', 1.0): 6,\n",
              " ('charger', 1.0): 2,\n",
              " ('asleep', 1.0): 9,\n",
              " ('talk', 1.0): 46,\n",
              " ('sooo', 1.0): 6,\n",
              " ('someon', 1.0): 34,\n",
              " ('text', 1.0): 18,\n",
              " ('ye', 1.0): 77,\n",
              " ('bet', 1.0): 6,\n",
              " (\"he'll\", 1.0): 4,\n",
              " ('fit', 1.0): 3,\n",
              " ('hear', 1.0): 33,\n",
              " ('speech', 1.0): 1,\n",
              " ('piti', 1.0): 3,\n",
              " ('green', 1.0): 3,\n",
              " ('garden', 1.0): 7,\n",
              " ('midnight', 1.0): 1,\n",
              " ('sun', 1.0): 6,\n",
              " ('beauti', 1.0): 50,\n",
              " ('canal', 1.0): 1,\n",
              " ('dasvidaniya', 1.0): 1,\n",
              " ('till', 1.0): 18,\n",
              " ('scout', 1.0): 1,\n",
              " ('sg', 1.0): 1,\n",
              " ('futur', 1.0): 13,\n",
              " ('wlan', 1.0): 1,\n",
              " ('pro', 1.0): 5,\n",
              " ('confer', 1.0): 1,\n",
              " ('asia', 1.0): 1,\n",
              " ('chang', 1.0): 24,\n",
              " ('lollipop', 1.0): 1,\n",
              " ('🍭', 1.0): 1,\n",
              " ('nez', 1.0): 1,\n",
              " ('agnezmo', 1.0): 1,\n",
              " ('oley', 1.0): 1,\n",
              " ('mama', 1.0): 1,\n",
              " ('stand', 1.0): 8,\n",
              " ('stronger', 1.0): 1,\n",
              " ('god', 1.0): 20,\n",
              " ('misti', 1.0): 1,\n",
              " ('babi', 1.0): 20,\n",
              " ('cute', 1.0): 27,\n",
              " ('woohoo', 1.0): 3,\n",
              " (\"can't\", 1.0): 43,\n",
              " ('sign', 1.0): 11,\n",
              " ('yet', 1.0): 13,\n",
              " ('still', 1.0): 48,\n",
              " ('think', 1.0): 71,\n",
              " ('mka', 1.0): 5,\n",
              " ('liam', 1.0): 8,\n",
              " ('access', 1.0): 3,\n",
              " ('welcom', 1.0): 73,\n",
              " ('stat', 1.0): 60,\n",
              " ('arriv', 1.0): 67,\n",
              " ('unfollow', 1.0): 63,\n",
              " ('via', 1.0): 85,\n",
              " ('surpris', 1.0): 10,\n",
              " ('figur', 1.0): 5,\n",
              " ('happybirthdayemilybett', 1.0): 1,\n",
              " ('sweet', 1.0): 19,\n",
              " ('talent', 1.0): 5,\n",
              " ('2', 1.0): 58,\n",
              " ('plan', 1.0): 27,\n",
              " ('drain', 1.0): 1,\n",
              " ('gotta', 1.0): 5,\n",
              " ('timezon', 1.0): 1,\n",
              " ('parent', 1.0): 5,\n",
              " ('proud', 1.0): 12,\n",
              " ('least', 1.0): 16,\n",
              " ('mayb', 1.0): 18,\n",
              " ('sometim', 1.0): 13,\n",
              " ('grade', 1.0): 4,\n",
              " ('al', 1.0): 4,\n",
              " ('grand', 1.0): 4,\n",
              " ('manila_bro', 1.0): 2,\n",
              " ('chosen', 1.0): 1,\n",
              " ('let', 1.0): 83,\n",
              " ('around', 1.0): 17,\n",
              " ('..', 1.0): 129,\n",
              " ('side', 1.0): 15,\n",
              " ('world', 1.0): 27,\n",
              " ('eh', 1.0): 2,\n",
              " ('take', 1.0): 43,\n",
              " ('care', 1.0): 18,\n",
              " ('final', 1.0): 30,\n",
              " ('fuck', 1.0): 26,\n",
              " ('weekend', 1.0): 75,\n",
              " ('real', 1.0): 21,\n",
              " ('x45', 1.0): 1,\n",
              " ('join', 1.0): 23,\n",
              " ('hushedcallwithfraydo', 1.0): 1,\n",
              " ('gift', 1.0): 8,\n",
              " ('yeahhh', 1.0): 1,\n",
              " ('hushedpinwithsammi', 1.0): 2,\n",
              " ('event', 1.0): 9,\n",
              " ('might', 1.0): 27,\n",
              " ('luv', 1.0): 6,\n",
              " ('realli', 1.0): 79,\n",
              " ('appreci', 1.0): 31,\n",
              " ('share', 1.0): 46,\n",
              " ('wow', 1.0): 22,\n",
              " ('tom', 1.0): 6,\n",
              " ('3', 1.0): 33,\n",
              " ('gym', 1.0): 4,\n",
              " ('monday', 1.0): 9,\n",
              " ('invit', 1.0): 17,\n",
              " ('scope', 1.0): 5,\n",
              " ('friend', 1.0): 64,\n",
              " ('nude', 1.0): 2,\n",
              " ('sleep', 1.0): 45,\n",
              " ('birthday', 1.0): 74,\n",
              " ('want', 1.0): 98,\n",
              " ('t-shirt', 1.0): 3,\n",
              " ('cool', 1.0): 38,\n",
              " ('haw', 1.0): 1,\n",
              " ('phela', 1.0): 1,\n",
              " ('mom', 1.0): 10,\n",
              " ('obvious', 1.0): 2,\n",
              " ('princ', 1.0): 1,\n",
              " ('charm', 1.0): 1,\n",
              " ('stage', 1.0): 2,\n",
              " ('luck', 1.0): 30,\n",
              " ('tyler', 1.0): 2,\n",
              " ('hipster', 1.0): 1,\n",
              " ('glass', 1.0): 5,\n",
              " ('marti', 1.0): 2,\n",
              " ('glad', 1.0): 43,\n",
              " ('done', 1.0): 54,\n",
              " ('afternoon', 1.0): 10,\n",
              " ('read', 1.0): 35,\n",
              " ('kahfi', 1.0): 1,\n",
              " ('finish', 1.0): 17,\n",
              " ('ohmyg', 1.0): 1,\n",
              " ('yaya', 1.0): 3,\n",
              " ('dub', 1.0): 2,\n",
              " ('stalk', 1.0): 2,\n",
              " ('ig', 1.0): 3,\n",
              " ('gondooo', 1.0): 1,\n",
              " ('moo', 1.0): 2,\n",
              " ('tologooo', 1.0): 1,\n",
              " ('becom', 1.0): 10,\n",
              " ('detail', 1.0): 10,\n",
              " ('zzz', 1.0): 1,\n",
              " ('xx', 1.0): 42,\n",
              " ('physiotherapi', 1.0): 1,\n",
              " ('hashtag', 1.0): 5,\n",
              " ('💪', 1.0): 1,\n",
              " ('monica', 1.0): 1,\n",
              " ('miss', 1.0): 27,\n",
              " ('sound', 1.0): 23,\n",
              " ('morn', 1.0): 101,\n",
              " (\"that'\", 1.0): 67,\n",
              " ('x43', 1.0): 1,\n",
              " ('definit', 1.0): 23,\n",
              " ('tri', 1.0): 44,\n",
              " ('tonight', 1.0): 20,\n",
              " ('took', 1.0): 8,\n",
              " ('advic', 1.0): 6,\n",
              " ('treviso', 1.0): 1,\n",
              " ('concert', 1.0): 24,\n",
              " ('citi', 1.0): 27,\n",
              " ('countri', 1.0): 23,\n",
              " (\"i'll\", 1.0): 91,\n",
              " ('start', 1.0): 61,\n",
              " ('fine', 1.0): 11,\n",
              " ('gorgeou', 1.0): 12,\n",
              " ('xo', 1.0): 2,\n",
              " ('oven', 1.0): 3,\n",
              " ('roast', 1.0): 2,\n",
              " ('garlic', 1.0): 1,\n",
              " ('oliv', 1.0): 1,\n",
              " ('oil', 1.0): 4,\n",
              " ('dri', 1.0): 5,\n",
              " ('tomato', 1.0): 1,\n",
              " ('basil', 1.0): 1,\n",
              " ('centuri', 1.0): 1,\n",
              " ('tuna', 1.0): 1,\n",
              " ('right', 1.0): 47,\n",
              " ('atchya', 1.0): 1,\n",
              " ('even', 1.0): 35,\n",
              " ('almost', 1.0): 10,\n",
              " ('chanc', 1.0): 6,\n",
              " ('cheer', 1.0): 21,\n",
              " ('po', 1.0): 4,\n",
              " ('ice', 1.0): 6,\n",
              " ('cream', 1.0): 6,\n",
              " ('agre', 1.0): 16,\n",
              " ('100', 1.0): 8,\n",
              " ('heheheh', 1.0): 2,\n",
              " ('that', 1.0): 13,\n",
              " ('point', 1.0): 13,\n",
              " ('stay', 1.0): 26,\n",
              " ('home', 1.0): 31,\n",
              " ('soon', 1.0): 47,\n",
              " ('promis', 1.0): 6,\n",
              " ('web', 1.0): 4,\n",
              " ('whatsapp', 1.0): 5,\n",
              " ('volta', 1.0): 1,\n",
              " ('funcionar', 1.0): 1,\n",
              " ('com', 1.0): 2,\n",
              " ('iphon', 1.0): 7,\n",
              " ('jailbroken', 1.0): 1,\n",
              " ('later', 1.0): 17,\n",
              " ('34', 1.0): 3,\n",
              " ('min', 1.0): 9,\n",
              " ('leia', 1.0): 1,\n",
              " ('appear', 1.0): 3,\n",
              " ('hologram', 1.0): 1,\n",
              " ('r2d2', 1.0): 1,\n",
              " ('w', 1.0): 18,\n",
              " ('messag', 1.0): 10,\n",
              " ('obi', 1.0): 1,\n",
              " ('wan', 1.0): 3,\n",
              " ('sit', 1.0): 8,\n",
              " ('luke', 1.0): 6,\n",
              " ('inter', 1.0): 1,\n",
              " ('ucl', 1.0): 1,\n",
              " ('arsen', 1.0): 2,\n",
              " ('small', 1.0): 5,\n",
              " ('team', 1.0): 29,\n",
              " ('pass', 1.0): 12,\n",
              " ('🚂', 1.0): 1,\n",
              " ('dewsburi', 1.0): 2,\n",
              " ('railway', 1.0): 1,\n",
              " ('station', 1.0): 4,\n",
              " ('dew', 1.0): 1,\n",
              " ('west', 1.0): 3,\n",
              " ('yorkshir', 1.0): 2,\n",
              " ('430', 1.0): 1,\n",
              " ('smh', 1.0): 2,\n",
              " ('9:25', 1.0): 1,\n",
              " ('live', 1.0): 28,\n",
              " ('strang', 1.0): 4,\n",
              " ('imagin', 1.0): 5,\n",
              " ('megan', 1.0): 1,\n",
              " ('masaantoday', 1.0): 6,\n",
              " ('a4', 1.0): 3,\n",
              " ('shweta', 1.0): 1,\n",
              " ('tripathi', 1.0): 1,\n",
              " ('5', 1.0): 17,\n",
              " ('20', 1.0): 6,\n",
              " ('kurta', 1.0): 3,\n",
              " ('half', 1.0): 7,\n",
              " ('number', 1.0): 13,\n",
              " ('wsalelov', 1.0): 16,\n",
              " ('ah', 1.0): 13,\n",
              " ('larri', 1.0): 3,\n",
              " ('anyway', 1.0): 16,\n",
              " ('kinda', 1.0): 13,\n",
              " ('goood', 1.0): 4,\n",
              " ('life', 1.0): 49,\n",
              " ('enn', 1.0): 1,\n",
              " ('could', 1.0): 32,\n",
              " ('warmup', 1.0): 1,\n",
              " ('15th', 1.0): 2,\n",
              " ('bath', 1.0): 7,\n",
              " ('dum', 1.0): 2,\n",
              " ('andar', 1.0): 1,\n",
              " ('ram', 1.0): 1,\n",
              " ('sampath', 1.0): 1,\n",
              " ('sona', 1.0): 1,\n",
              " ('mohapatra', 1.0): 1,\n",
              " ('samantha', 1.0): 1,\n",
              " ('edward', 1.0): 1,\n",
              " ('mein', 1.0): 1,\n",
              " ('tulan', 1.0): 1,\n",
              " ('razi', 1.0): 2,\n",
              " ('wah', 1.0): 2,\n",
              " ('josh', 1.0): 1,\n",
              " ('alway', 1.0): 67,\n",
              " ('smile', 1.0): 62,\n",
              " ('pictur', 1.0): 12,\n",
              " ('16.20', 1.0): 1,\n",
              " ('giveitup', 1.0): 1,\n",
              " ('given', 1.0): 3,\n",
              " ('ga', 1.0): 3,\n",
              " ('subsidi', 1.0): 1,\n",
              " ('initi', 1.0): 4,\n",
              " ('propos', 1.0): 3,\n",
              " ('delight', 1.0): 7,\n",
              " ('yesterday', 1.0): 7,\n",
              " ('x42', 1.0): 1,\n",
              " ('lmaoo', 1.0): 2,\n",
              " ('song', 1.0): 22,\n",
              " ('ever', 1.0): 23,\n",
              " ('shall', 1.0): 6,\n",
              " ('littl', 1.0): 31,\n",
              " ('throwback', 1.0): 3,\n",
              " ('outli', 1.0): 1,\n",
              " ('island', 1.0): 5,\n",
              " ('cheung', 1.0): 1,\n",
              " ('chau', 1.0): 1,\n",
              " ('mui', 1.0): 1,\n",
              " ('wo', 1.0): 1,\n",
              " ('total', 1.0): 10,\n",
              " ('differ', 1.0): 11,\n",
              " ('kfckitchentour', 1.0): 2,\n",
              " ('kitchen', 1.0): 4,\n",
              " ('clean', 1.0): 1,\n",
              " (\"i'm\", 1.0): 183,\n",
              " ('cusp', 1.0): 1,\n",
              " ('test', 1.0): 7,\n",
              " ('water', 1.0): 8,\n",
              " ('reward', 1.0): 1,\n",
              " ('arummzz', 1.0): 2,\n",
              " (\"let'\", 1.0): 25,\n",
              " ('drive', 1.0): 11,\n",
              " ('travel', 1.0): 20,\n",
              " ('yogyakarta', 1.0): 3,\n",
              " ('jeep', 1.0): 3,\n",
              " ('indonesia', 1.0): 4,\n",
              " ('instamood', 1.0): 3,\n",
              " ('wanna', 1.0): 30,\n",
              " ('skype', 1.0): 3,\n",
              " ('may', 1.0): 22,\n",
              " ('nice', 1.0): 99,\n",
              " ('friendli', 1.0): 2,\n",
              " ('pretend', 1.0): 2,\n",
              " ('film', 1.0): 9,\n",
              " ('congratul', 1.0): 15,\n",
              " ('winner', 1.0): 4,\n",
              " ('cheesydelight', 1.0): 1,\n",
              " ('contest', 1.0): 6,\n",
              " ('address', 1.0): 10,\n",
              " ('guy', 1.0): 60,\n",
              " ('market', 1.0): 5,\n",
              " ('24/7', 1.0): 1,\n",
              " ('regret', 1.0): 5,\n",
              " ('14', 1.0): 1,\n",
              " ('hour', 1.0): 27,\n",
              " ('leav', 1.0): 13,\n",
              " ('without', 1.0): 12,\n",
              " ('delay', 1.0): 2,\n",
              " ('actual', 1.0): 19,\n",
              " ('easi', 1.0): 9,\n",
              " ('guess', 1.0): 14,\n",
              " ('train', 1.0): 10,\n",
              " ('wd', 1.0): 1,\n",
              " ('shift', 1.0): 5,\n",
              " ('engin', 1.0): 2,\n",
              " ('etc', 1.0): 2,\n",
              " ('sunburn', 1.0): 1,\n",
              " ('peel', 1.0): 2,\n",
              " ('blog', 1.0): 31,\n",
              " ('huge', 1.0): 11,\n",
              " ('warm', 1.0): 6,\n",
              " ('☆', 1.0): 3,\n",
              " ('complet', 1.0): 11,\n",
              " ('triangl', 1.0): 2,\n",
              " ('northern', 1.0): 1,\n",
              " ('ireland', 1.0): 2,\n",
              " ('sight', 1.0): 1,\n",
              " ('smthng', 1.0): 2,\n",
              " ('fr', 1.0): 3,\n",
              " ('hug', 1.0): 13,\n",
              " ('xoxo', 1.0): 3,\n",
              " ('uu', 1.0): 1,\n",
              " ('jaann', 1.0): 1,\n",
              " ('topnewfollow', 1.0): 2,\n",
              " ('connect', 1.0): 14,\n",
              " ('wonder', 1.0): 35,\n",
              " ('made', 1.0): 53,\n",
              " ('fluffi', 1.0): 1,\n",
              " ('insid', 1.0): 8,\n",
              " ('pirouett', 1.0): 1,\n",
              " ('moos', 1.0): 1,\n",
              " ('trip', 1.0): 14,\n",
              " ('philli', 1.0): 1,\n",
              " ('decemb', 1.0): 3,\n",
              " (\"i'd\", 1.0): 20,\n",
              " ('dude', 1.0): 6,\n",
              " ('x41', 1.0): 1,\n",
              " ('question', 1.0): 17,\n",
              " ('flaw', 1.0): 1,\n",
              " ('pain', 1.0): 9,\n",
              " ('negat', 1.0): 1,\n",
              " ('strength', 1.0): 3,\n",
              " ('went', 1.0): 12,\n",
              " ('solo', 1.0): 4,\n",
              " ('move', 1.0): 12,\n",
              " ('fav', 1.0): 13,\n",
              " ('nirvana', 1.0): 1,\n",
              " ('smell', 1.0): 2,\n",
              " ('teen', 1.0): 3,\n",
              " ('spirit', 1.0): 3,\n",
              " ('rip', 1.0): 3,\n",
              " ('ami', 1.0): 4,\n",
              " ('winehous', 1.0): 1,\n",
              " ('coupl', 1.0): 9,\n",
              " ('tomhiddleston', 1.0): 1,\n",
              " ('elizabetholsen', 1.0): 1,\n",
              " ('yaytheylookgreat', 1.0): 1,\n",
              " ('goodnight', 1.0): 24,\n",
              " ('vid', 1.0): 11,\n",
              " ('wake', 1.0): 12,\n",
              " ('gonna', 1.0): 21,\n",
              " ('shoot', 1.0): 6,\n",
              " ('itti', 1.0): 2,\n",
              " ('bitti', 1.0): 2,\n",
              " ('teeni', 1.0): 2,\n",
              " ('bikini', 1.0): 3,\n",
              " ('much', 1.0): 89,\n",
              " ('4th', 1.0): 4,\n",
              " ('togeth', 1.0): 7,\n",
              " ('end', 1.0): 20,\n",
              " ('xfile', 1.0): 1,\n",
              " ('content', 1.0): 4,\n",
              " ('rain', 1.0): 21,\n",
              " ('fabul', 1.0): 5,\n",
              " ('fantast', 1.0): 14,\n",
              " ('♡', 1.0): 20,\n",
              " ('jb', 1.0): 1,\n",
              " ('forev', 1.0): 5,\n",
              " ('belieb', 1.0): 3,\n",
              " ('nighti', 1.0): 1,\n",
              " ('bug', 1.0): 3,\n",
              " ('bite', 1.0): 1,\n",
              " ('bracelet', 1.0): 2,\n",
              " ('idea', 1.0): 27,\n",
              " ('foundri', 1.0): 1,\n",
              " ('game', 1.0): 27,\n",
              " ('sens', 1.0): 7,\n",
              " ('pic', 1.0): 27,\n",
              " ('ef', 1.0): 1,\n",
              " ('phone', 1.0): 19,\n",
              " ('woot', 1.0): 2,\n",
              " ('derek', 1.0): 1,\n",
              " ('use', 1.0): 44,\n",
              " ('parkshar', 1.0): 1,\n",
              " ('gloucestershir', 1.0): 1,\n",
              " ('aaaahhh', 1.0): 1,\n",
              " ('man', 1.0): 23,\n",
              " ('traffic', 1.0): 2,\n",
              " ('stress', 1.0): 8,\n",
              " ('reliev', 1.0): 1,\n",
              " (\"how'r\", 1.0): 1,\n",
              " ('arbeloa', 1.0): 1,\n",
              " ('turn', 1.0): 16,\n",
              " ('17', 1.0): 4,\n",
              " ('omg', 1.0): 15,\n",
              " ('say', 1.0): 61,\n",
              " ('europ', 1.0): 1,\n",
              " ('rise', 1.0): 2,\n",
              " ('find', 1.0): 25,\n",
              " ('hard', 1.0): 12,\n",
              " ('believ', 1.0): 9,\n",
              " ('uncount', 1.0): 1,\n",
              " ('coz', 1.0): 3,\n",
              " ('unlimit', 1.0): 1,\n",
              " ('cours', 1.0): 18,\n",
              " ('teamposit', 1.0): 1,\n",
              " ('aldub', 1.0): 2,\n",
              " ('☕', 1.0): 3,\n",
              " ('rita', 1.0): 2,\n",
              " ('info', 1.0): 14,\n",
              " (\"we'd\", 1.0): 4,\n",
              " ('way', 1.0): 46,\n",
              " ('boy', 1.0): 21,\n",
              " ('x40', 1.0): 1,\n",
              " ('true', 1.0): 22,\n",
              " ('sethi', 1.0): 2,\n",
              " ('high', 1.0): 7,\n",
              " ('exe', 1.0): 1,\n",
              " ('skeem', 1.0): 1,\n",
              " ('saam', 1.0): 1,\n",
              " ('peopl', 1.0): 49,\n",
              " ('polit', 1.0): 2,\n",
              " ('izzat', 1.0): 1,\n",
              " ('wese', 1.0): 1,\n",
              " ('trust', 1.0): 9,\n",
              " ('khawateen', 1.0): 1,\n",
              " ('k', 1.0): 9,\n",
              " ('sath', 1.0): 2,\n",
              " ('mana', 1.0): 1,\n",
              " ('kar', 1.0): 1,\n",
              " ('deya', 1.0): 1,\n",
              " ('sort', 1.0): 9,\n",
              " ('smart', 1.0): 5,\n",
              " ('hair', 1.0): 12,\n",
              " ('tbh', 1.0): 5,\n",
              " ('jacob', 1.0): 2,\n",
              " ('g', 1.0): 11,\n",
              " ('upgrad', 1.0): 6,\n",
              " ('tee', 1.0): 3,\n",
              " ('famili', 1.0): 19,\n",
              " ('person', 1.0): 19,\n",
              " ('two', 1.0): 22,\n",
              " ('convers', 1.0): 6,\n",
              " ('onlin', 1.0): 7,\n",
              " ('mclaren', 1.0): 1,\n",
              " ('fridayfeel', 1.0): 5,\n",
              " ('tgif', 1.0): 10,\n",
              " ('squar', 1.0): 1,\n",
              " ('enix', 1.0): 1,\n",
              " ('bissmillah', 1.0): 1,\n",
              " ('ya', 1.0): 23,\n",
              " ('allah', 1.0): 3,\n",
              " (\"we'r\", 1.0): 30,\n",
              " ('socent', 1.0): 1,\n",
              " ('startup', 1.0): 3,\n",
              " ('drop', 1.0): 9,\n",
              " ('your', 1.0): 3,\n",
              " ('arnd', 1.0): 1,\n",
              " ('town', 1.0): 5,\n",
              " ('basic', 1.0): 4,\n",
              " ('piss', 1.0): 3,\n",
              " ('cup', 1.0): 4,\n",
              " ('also', 1.0): 36,\n",
              " ('terribl', 1.0): 2,\n",
              " ('complic', 1.0): 1,\n",
              " ('discuss', 1.0): 3,\n",
              " ('snapchat', 1.0): 36,\n",
              " ('lynettelow', 1.0): 1,\n",
              " ('kikmenow', 1.0): 3,\n",
              " ('snapm', 1.0): 2,\n",
              " ('hot', 1.0): 24,\n",
              " ('amazon', 1.0): 1,\n",
              " ('kikmeguy', 1.0): 3,\n",
              " ('defin', 1.0): 2,\n",
              " ('grow', 1.0): 7,\n",
              " ('sport', 1.0): 4,\n",
              " ('rt', 1.0): 12,\n",
              " ('rakyat', 1.0): 1,\n",
              " ('write', 1.0): 13,\n",
              " ('sinc', 1.0): 15,\n",
              " ('mention', 1.0): 24,\n",
              " ('fli', 1.0): 5,\n",
              " ('fish', 1.0): 4,\n",
              " ('promot', 1.0): 5,\n",
              " ('post', 1.0): 21,\n",
              " ('cyber', 1.0): 1,\n",
              " ('ourdaughtersourprid', 1.0): 5,\n",
              " ('mypapamyprid', 1.0): 2,\n",
              " ('papa', 1.0): 2,\n",
              " ('coach', 1.0): 2,\n",
              " ('posit', 1.0): 8,\n",
              " ('kha', 1.0): 1,\n",
              " ('atleast', 1.0): 2,\n",
              " ('x39', 1.0): 1,\n",
              " ('mango', 1.0): 1,\n",
              " (\"lassi'\", 1.0): 1,\n",
              " (\"monty'\", 1.0): 1,\n",
              " ('marvel', 1.0): 2,\n",
              " ('though', 1.0): 19,\n",
              " ('suspect', 1.0): 3,\n",
              " ('meant', 1.0): 3,\n",
              " ('24', 1.0): 4,\n",
              " ('hr', 1.0): 2,\n",
              " ('touch', 1.0): 15,\n",
              " ('kepler', 1.0): 4,\n",
              " ('452b', 1.0): 5,\n",
              " ('chalna', 1.0): 1,\n",
              " ('hai', 1.0): 11,\n",
              " ('thankyou', 1.0): 14,\n",
              " ('hazel', 1.0): 1,\n",
              " ('food', 1.0): 11,\n",
              " ('brooklyn', 1.0): 1,\n",
              " ('pta', 1.0): 2,\n",
              " ('awak', 1.0): 10,\n",
              " ('okayi', 1.0): 2,\n",
              " ('awww', 1.0): 15,\n",
              " ('ha', 1.0): 23,\n",
              " ('doc', 1.0): 1,\n",
              " ('splendid', 1.0): 1,\n",
              " ('spam', 1.0): 1,\n",
              " ('folder', 1.0): 1,\n",
              " ('amount', 1.0): 1,\n",
              " ('nigeria', 1.0): 1,\n",
              " ('claim', 1.0): 1,\n",
              " ('rted', 1.0): 1,\n",
              " ('leg', 1.0): 5,\n",
              " ('hurt', 1.0): 8,\n",
              " ('bad', 1.0): 18,\n",
              " ('mine', 1.0): 14,\n",
              " ('saturday', 1.0): 8,\n",
              " ('thaaank', 1.0): 1,\n",
              " ('puhon', 1.0): 1,\n",
              " ('happinesss', 1.0): 1,\n",
              " ('tnc', 1.0): 1,\n",
              " ('prior', 1.0): 1,\n",
              " ('notif', 1.0): 2,\n",
              " ('probabl', 1.0): 10,\n",
              " ('funni', 1.0): 20,\n",
              " ('2:22', 1.0): 1,\n",
              " ('fat', 1.0): 1,\n",
              " ('co', 1.0): 1,\n",
              " ('ate', 1.0): 4,\n",
              " ('yuna', 1.0): 2,\n",
              " ('tamesid', 1.0): 1,\n",
              " ('´', 1.0): 3,\n",
              " ('googl', 1.0): 6,\n",
              " ('account', 1.0): 19,\n",
              " ('scouser', 1.0): 1,\n",
              " ('everyth', 1.0): 13,\n",
              " ('zoe', 1.0): 2,\n",
              " ('mate', 1.0): 7,\n",
              " ('liter', 1.0): 7,\n",
              " (\"they'r\", 1.0): 12,\n",
              " ('samee', 1.0): 1,\n",
              " ('edgar', 1.0): 1,\n",
              " ('updat', 1.0): 13,\n",
              " ('log', 1.0): 4,\n",
              " ('bring', 1.0): 19,\n",
              " ('abe', 1.0): 1,\n",
              " ('meet', 1.0): 34,\n",
              " ('x38', 1.0): 1,\n",
              " ('sigh', 1.0): 3,\n",
              " ('dreamili', 1.0): 1,\n",
              " ('pout', 1.0): 1,\n",
              " ('eye', 1.0): 14,\n",
              " ('quacketyquack', 1.0): 7,\n",
              " ('happen', 1.0): 16,\n",
              " ('phil', 1.0): 1,\n",
              " ('em', 1.0): 3,\n",
              " ('del', 1.0): 1,\n",
              " ('rodder', 1.0): 1,\n",
              " ('els', 1.0): 10,\n",
              " ('play', 1.0): 46,\n",
              " ('newest', 1.0): 1,\n",
              " ('gamejam', 1.0): 1,\n",
              " ('irish', 1.0): 2,\n",
              " ('literatur', 1.0): 2,\n",
              " ('inaccess', 1.0): 2,\n",
              " (\"kareena'\", 1.0): 2,\n",
              " ('fan', 1.0): 30,\n",
              " ('brain', 1.0): 13,\n",
              " ('dot', 1.0): 11,\n",
              " ('braindot', 1.0): 11,\n",
              " ('fair', 1.0): 6,\n",
              " ('rush', 1.0): 1,\n",
              " ('either', 1.0): 11,\n",
              " ('brandi', 1.0): 1,\n",
              " ('18', 1.0): 5,\n",
              " ('carniv', 1.0): 1,\n",
              " ('men', 1.0): 10,\n",
              " ('put', 1.0): 17,\n",
              " ('mask', 1.0): 3,\n",
              " ('xavier', 1.0): 1,\n",
              " ('forneret', 1.0): 1,\n",
              " ('jennif', 1.0): 1,\n",
              " ('site', 1.0): 9,\n",
              " ('free', 1.0): 38,\n",
              " ('50.000', 1.0): 3,\n",
              " ('8', 1.0): 12,\n",
              " ('ball', 1.0): 7,\n",
              " ('pool', 1.0): 5,\n",
              " ('coin', 1.0): 5,\n",
              " ('edit', 1.0): 7,\n",
              " ('trish', 1.0): 1,\n",
              " ('♥', 1.0): 19,\n",
              " ('grate', 1.0): 5,\n",
              " ('three', 1.0): 10,\n",
              " ('comment', 1.0): 9,\n",
              " ('wakeup', 1.0): 1,\n",
              " ('besid', 1.0): 2,\n",
              " ('dirti', 1.0): 2,\n",
              " ('sex', 1.0): 6,\n",
              " ('lmaooo', 1.0): 1,\n",
              " ('😤', 1.0): 2,\n",
              " ('loui', 1.0): 4,\n",
              " (\"he'\", 1.0): 12,\n",
              " ('throw', 1.0): 3,\n",
              " ('caus', 1.0): 15,\n",
              " ('inspir', 1.0): 7,\n",
              " ('ff', 1.0): 48,\n",
              " ('twoof', 1.0): 3,\n",
              " ('gr8', 1.0): 1,\n",
              " ('wkend', 1.0): 3,\n",
              " ('kind', 1.0): 24,\n",
              " ('exhaust', 1.0): 2,\n",
              " ('word', 1.0): 20,\n",
              " ('cheltenham', 1.0): 1,\n",
              " ('area', 1.0): 4,\n",
              " ('kale', 1.0): 1,\n",
              " ('crisp', 1.0): 1,\n",
              " ('ruin', 1.0): 5,\n",
              " ('x37', 1.0): 1,\n",
              " ('open', 1.0): 12,\n",
              " ('worldwid', 1.0): 2,\n",
              " ('outta', 1.0): 1,\n",
              " ('sfvbeta', 1.0): 1,\n",
              " ('vantast', 1.0): 1,\n",
              " ('xcylin', 1.0): 1,\n",
              " ('bundl', 1.0): 1,\n",
              " ('show', 1.0): 28,\n",
              " ('internet', 1.0): 2,\n",
              " ('price', 1.0): 4,\n",
              " ('realisticli', 1.0): 1,\n",
              " ('pay', 1.0): 8,\n",
              " ('net', 1.0): 1,\n",
              " ('educ', 1.0): 1,\n",
              " ('power', 1.0): 7,\n",
              " ('weapon', 1.0): 1,\n",
              " ('nelson', 1.0): 1,\n",
              " ('mandela', 1.0): 1,\n",
              " ('recent', 1.0): 9,\n",
              " ('j', 1.0): 3,\n",
              " ('chenab', 1.0): 1,\n",
              " ('flow', 1.0): 5,\n",
              " ('pakistan', 1.0): 2,\n",
              " ('incredibleindia', 1.0): 1,\n",
              " ('teenchoic', 1.0): 10,\n",
              " ('choiceinternationalartist', 1.0): 9,\n",
              " ('superjunior', 1.0): 9,\n",
              " ('caught', 1.0): 4,\n",
              " ('first', 1.0): 50,\n",
              " ('salmon', 1.0): 3,\n",
              " ('super-blend', 1.0): 1,\n",
              " ('project', 1.0): 6,\n",
              " ('youth@bipolaruk.org.uk', 1.0): 1,\n",
              " ('awesom', 1.0): 42,\n",
              " ('stream', 1.0): 14,\n",
              " ('artist', 1.0): 2,\n",
              " ('alma', 1.0): 1,\n",
              " ('mater', 1.0): 1,\n",
              " ('highschoolday', 1.0): 1,\n",
              " ('clientvisit', 1.0): 1,\n",
              " ('faith', 1.0): 3,\n",
              " ('christian', 1.0): 1,\n",
              " ('school', 1.0): 10,\n",
              " ('lizaminnelli', 1.0): 1,\n",
              " ('upcom', 1.0): 2,\n",
              " ('uk', 1.0): 4,\n",
              " ('😄', 1.0): 5,\n",
              " ('singl', 1.0): 6,\n",
              " ('hill', 1.0): 4,\n",
              " ('everi', 1.0): 26,\n",
              " ('beat', 1.0): 10,\n",
              " ('wrong', 1.0): 10,\n",
              " ('readi', 1.0): 25,\n",
              " ('natur', 1.0): 1,\n",
              " ('pefumeri', 1.0): 1,\n",
              " ...}"
            ]
          },
          "metadata": {},
          "execution_count": 28
        }
      ]
    },
    {
      "cell_type": "code",
      "source": [
        "keys = ['happi', 'merri', 'nice', 'good', 'bad', 'sad', 'mad', 'best', 'pretti',\n",
        "        '❤', ':)', ':(', '😒', '😬', '😄', '😍', '♛',\n",
        "        'song', 'idea', 'power', 'play', 'magnific']\n",
        "\n",
        "data = []\n",
        "\n",
        "# loop through our selected words\n",
        "for word in keys:\n",
        "\n",
        "    # initialize positive and negative counts\n",
        "    pos = 0\n",
        "    neg = 0\n",
        "\n",
        "    # retrieve number of positive counts\n",
        "    if (word, 1) in freqs:\n",
        "        pos = freqs[(word, 1)]\n",
        "\n",
        "    # retrieve number of negative counts\n",
        "    if (word, 0) in freqs:\n",
        "        neg = freqs[(word, 0)]\n",
        "\n",
        "    # append the word counts to the table\n",
        "    data.append([word, pos, neg])\n",
        "\n",
        "data"
      ],
      "metadata": {
        "colab": {
          "base_uri": "https://localhost:8080/"
        },
        "id": "KwRfcySMm1j5",
        "outputId": "dddc983b-94a9-4273-e904-8432bed8731d"
      },
      "execution_count": 29,
      "outputs": [
        {
          "output_type": "execute_result",
          "data": {
            "text/plain": [
              "[['happi', 212, 25],\n",
              " ['merri', 1, 0],\n",
              " ['nice', 99, 19],\n",
              " ['good', 238, 101],\n",
              " ['bad', 18, 73],\n",
              " ['sad', 5, 123],\n",
              " ['mad', 4, 11],\n",
              " ['best', 65, 22],\n",
              " ['pretti', 20, 15],\n",
              " ['❤', 29, 21],\n",
              " [':)', 3691, 2],\n",
              " [':(', 1, 4584],\n",
              " ['😒', 2, 3],\n",
              " ['😬', 0, 2],\n",
              " ['😄', 5, 1],\n",
              " ['😍', 5, 1],\n",
              " ['♛', 0, 210],\n",
              " ['song', 22, 27],\n",
              " ['idea', 27, 10],\n",
              " ['power', 7, 6],\n",
              " ['play', 46, 48],\n",
              " ['magnific', 2, 0]]"
            ]
          },
          "metadata": {},
          "execution_count": 29
        }
      ]
    },
    {
      "cell_type": "code",
      "source": [
        "fig, ax = plt.subplots(figsize = (8, 8))\n",
        "\n",
        "# convert positive raw counts to logarithmic scale. we add 1 to avoid log(0)\n",
        "x = np.log([x[1] + 1 for x in data])\n",
        "\n",
        "# do the same for the negative counts\n",
        "y = np.log([x[2] + 1 for x in data])\n",
        "\n",
        "# Plot a dot for each pair of words\n",
        "ax.scatter(x, y)\n",
        "\n",
        "# assign axis labels\n",
        "plt.xlabel(\"Log Positive count\")\n",
        "plt.ylabel(\"Log Negative count\")\n",
        "\n",
        "# Add the word as the label at the same position as you added the points just before\n",
        "for i in range(0, len(data)):\n",
        "    ax.annotate(data[i][0], (x[i], y[i]), fontsize=12)\n",
        "\n",
        "ax.plot([0, 9], [0, 9], color = 'red') # Plot the red line that divides the 2 areas.\n",
        "plt.show()"
      ],
      "metadata": {
        "colab": {
          "base_uri": "https://localhost:8080/",
          "height": 752
        },
        "id": "bkf74-BOnEvT",
        "outputId": "a2c53c84-1797-402f-a695-4d52495a6852"
      },
      "execution_count": 30,
      "outputs": [
        {
          "output_type": "stream",
          "name": "stderr",
          "text": [
            "/usr/local/lib/python3.10/dist-packages/IPython/core/pylabtools.py:151: UserWarning: Glyph 128556 (\\N{GRIMACING FACE}) missing from current font.\n",
            "  fig.canvas.print_figure(bytes_io, **kw)\n"
          ]
        },
        {
          "output_type": "display_data",
          "data": {
            "text/plain": [
              "<Figure size 800x800 with 1 Axes>"
            ],
            "image/png": "[encoded data removed]"
          },
          "metadata": {}
        }
      ]
    },
    {
      "cell_type": "code",
      "source": [
        "import pandas as pd"
      ],
      "metadata": {
        "id": "V_T22iSgoxda"
      },
      "execution_count": 31,
      "outputs": []
    },
    {
      "cell_type": "code",
      "source": [
        "train_pos  = all_positive_tweets[:4000]\n",
        "train_neg  = all_negative_tweets[:4000]"
      ],
      "metadata": {
        "id": "Ir9G6g0Ho1it"
      },
      "execution_count": 32,
      "outputs": []
    },
    {
      "cell_type": "code",
      "source": [
        "train_x = train_pos + train_neg"
      ],
      "metadata": {
        "id": "CKMLhl6To2L7"
      },
      "execution_count": 33,
      "outputs": []
    },
    {
      "cell_type": "code",
      "source": [
        "len(train_x)"
      ],
      "metadata": {
        "colab": {
          "base_uri": "https://localhost:8080/"
        },
        "id": "ONOfZEGoo5Le",
        "outputId": "52a76844-94ec-47e8-8500-1965b167f720"
      },
      "execution_count": 34,
      "outputs": [
        {
          "output_type": "execute_result",
          "data": {
            "text/plain": [
              "8000"
            ]
          },
          "metadata": {},
          "execution_count": 34
        }
      ]
    },
    {
      "cell_type": "code",
      "source": [
        "data = pd.read_csv('/content/logistic_features.csv')"
      ],
      "metadata": {
        "id": "mtyHvYdCo_fz"
      },
      "execution_count": 36,
      "outputs": []
    },
    {
      "cell_type": "code",
      "source": [
        "X = data[['bias', 'positive', 'negative']].values # Get only the numerical values of the dataframe\n",
        "Y = data['sentiment'].values; # Put in Y the corresponding labels or sentiments\n",
        "\n",
        "print(X.shape) # Print the shape of the X part\n",
        "print(X) # Print some rows of X"
      ],
      "metadata": {
        "colab": {
          "base_uri": "https://localhost:8080/"
        },
        "id": "QMxJ7LwcpkfW",
        "outputId": "46223046-4b8f-4ee8-8b67-72d2fcc59d62"
      },
      "execution_count": 37,
      "outputs": [
        {
          "output_type": "stream",
          "name": "stdout",
          "text": [
            "(8000, 3)\n",
            "[[1.000e+00 3.020e+03 6.100e+01]\n",
            " [1.000e+00 3.573e+03 4.440e+02]\n",
            " [1.000e+00 3.005e+03 1.150e+02]\n",
            " ...\n",
            " [1.000e+00 1.440e+02 7.830e+02]\n",
            " [1.000e+00 2.050e+02 3.890e+03]\n",
            " [1.000e+00 1.890e+02 3.974e+03]]\n"
          ]
        }
      ]
    },
    {
      "cell_type": "code",
      "source": [
        "theta = [6.03518871e-08, 5.38184972e-04, -5.58300168e-04]"
      ],
      "metadata": {
        "id": "IU-RoJvXpnnF"
      },
      "execution_count": 38,
      "outputs": []
    },
    {
      "cell_type": "code",
      "source": [
        "fig, ax = plt.subplots(figsize = (8, 8))\n",
        "\n",
        "colors = ['red', 'green']\n",
        "\n",
        "# Color based on the sentiment Y\n",
        "ax.scatter(X[:,1], X[:,2], c=[colors[int(k)] for k in Y], s = 0.1)  # Plot a dot for each pair of words\n",
        "plt.xlabel(\"Positive\")\n",
        "plt.ylabel(\"Negative\")"
      ],
      "metadata": {
        "colab": {
          "base_uri": "https://localhost:8080/",
          "height": 714
        },
        "id": "0Zv4ACIvpqPC",
        "outputId": "0549fdd5-fe00-4efc-c470-d4bf45e6467d"
      },
      "execution_count": 39,
      "outputs": [
        {
          "output_type": "execute_result",
          "data": {
            "text/plain": [
              "Text(0, 0.5, 'Negative')"
            ]
          },
          "metadata": {},
          "execution_count": 39
        },
        {
          "output_type": "display_data",
          "data": {
            "text/plain": [
              "<Figure size 800x800 with 1 Axes>"
            ],
            "image/png": "[encoded data removed]"
          },
          "metadata": {}
        }
      ]
    },
    {
      "cell_type": "code",
      "source": [
        "def neg(theta, pos):\n",
        "    return (-theta[0] - pos * theta[1]) / theta[2]\n",
        "\n",
        "# Equation for the direction of the sentiments change\n",
        "# We don't care about the magnitude of the change. We are only interested\n",
        "# in the direction. So this direction is just a perpendicular function to the\n",
        "# separation plane\n",
        "# df(pos, W) = pos * w2 / w1\n",
        "def direction(theta, pos):\n",
        "    return    pos * theta[2] / theta[1]"
      ],
      "metadata": {
        "id": "a8S3Ie8spwGk"
      },
      "execution_count": 40,
      "outputs": []
    },
    {
      "cell_type": "code",
      "source": [
        "fig, ax = plt.subplots(figsize = (8, 8))\n",
        "\n",
        "colors = ['red', 'green']\n",
        "\n",
        "# Color base on the sentiment Y\n",
        "ax.scatter(X[:,1], X[:,2], c=[colors[int(k)] for k in Y], s = 0.1)  # Plot a dot for each pair of words\n",
        "plt.xlabel(\"Positive\")\n",
        "plt.ylabel(\"Negative\")\n",
        "\n",
        "# Now lets represent the logistic regression model in this chart.\n",
        "maxpos = np.max(X[:,1])\n",
        "\n",
        "offset = 5000 # The pos value for the direction vectors origin\n",
        "\n",
        "# Plot a gray line that divides the 2 areas.\n",
        "ax.plot([0,  maxpos], [neg(theta, 0),   neg(theta, maxpos)], color = 'gray')\n",
        "\n",
        "# Plot a green line pointing to the positive direction\n",
        "ax.arrow(offset, neg(theta, offset), offset, direction(theta, offset), head_width=500, head_length=500, fc='g', ec='g')\n",
        "# Plot a red line pointing to the negative direction\n",
        "ax.arrow(offset, neg(theta, offset), -offset, -direction(theta, offset), head_width=500, head_length=500, fc='r', ec='r')\n",
        "\n",
        "plt.show()"
      ],
      "metadata": {
        "colab": {
          "base_uri": "https://localhost:8080/",
          "height": 696
        },
        "id": "rSvqZ6Sypzbb",
        "outputId": "11e0f8d8-f087-44a4-a332-e07b262493df"
      },
      "execution_count": 41,
      "outputs": [
        {
          "output_type": "display_data",
          "data": {
            "text/plain": [
              "<Figure size 800x800 with 1 Axes>"
            ],
            "image/png": "[encoded data removed]"
          },
          "metadata": {}
        }
      ]
    }
  ]
}